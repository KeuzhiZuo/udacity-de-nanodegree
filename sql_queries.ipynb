{
 "cells": [
  {
   "cell_type": "code",
   "execution_count": 1,
   "metadata": {
    "editable": true
   },
   "outputs": [],
   "source": [
    "# DROP TABLES\n",
    "\n",
    "songplay_table_drop = \"DROP TABLE IF EXISTS songplays\"\n",
    "user_table_drop = \"DROP TABLE IF EXISTS users\"\n",
    "song_table_drop = \"DROP TABLE IF EXISTS songs\"\n",
    "artist_table_drop = \"DROP TABLE IF EXISTS artists\"\n",
    "time_table_drop = \"DROP TABLE IF EXISTS time\""
   ]
  },
  {
   "cell_type": "code",
   "execution_count": 2,
   "metadata": {
    "editable": true
   },
   "outputs": [],
   "source": [
    "# CREATE TABLES\n",
    "\n",
    "songplay_table_create = (\"\"\"\n",
    "    CREATE TABLE IF NOT EXISTS songplays (  songplay_id SERIAL PRIMARY KEY NOT NULL, \\\n",
    "                                            start_time timestamp NOT NULL, \\\n",
    "                                            user_id varchar NOT NULL, \\\n",
    "                                            level varchar NOT NULL, \\\n",
    "                                            song_id varchar, \\\n",
    "                                            artist_id varchar, \\\n",
    "                                            session_id int NOT NULL, \\\n",
    "                                            location varchar NULL, \\\n",
    "                                            user_agent varchar NULL);\n",
    "\"\"\")\n",
    "\n",
    "user_table_create = (\"\"\"\n",
    "    CREATE TABLE IF NOT EXISTS users (  user_id int PRIMARY KEY UNIQUE NOT NULL, \\\n",
    "                                        first_name varchar NULL, \\\n",
    "                                        last_name varchar NULL, \\\n",
    "                                        gender varchar NULL, \\\n",
    "                                        level varchar NULL);\n",
    "\"\"\")\n",
    "\n",
    "song_table_create = (\"\"\"\n",
    "    CREATE TABLE IF NOT EXISTS songs (  song_id varchar PRIMARY KEY, \\\n",
    "                                        title varchar NOT NULL, \\\n",
    "                                        artist_id varchar NOT NULL, \\\n",
    "                                        year int NOT NULL, \\\n",
    "                                        duration numeric NOT NULL);\n",
    "\"\"\")\n",
    "\n",
    "artist_table_create = (\"\"\"\n",
    "    CREATE TABLE IF NOT EXISTS artists (  artist_id varchar PRIMARY KEY UNIQUE NOT NULL, \\\n",
    "                                          name varchar NULL, \\\n",
    "                                          location varchar NULL, \\\n",
    "                                          latitude decimal NULL, \\\n",
    "                                          longitude decimal NULL);\n",
    "\"\"\")\n",
    "\n",
    "time_table_create = (\"\"\"\n",
    "    CREATE TABLE IF NOT EXISTS time (  start_time timestamp NOT NULL, \\\n",
    "                                        hour int NULL, \\\n",
    "                                        day int NULL, \\\n",
    "                                        week int NULL, \\\n",
    "                                        month int NULL, \\\n",
    "                                        year int NULL, \\\n",
    "                                        weekday int NULL);\n",
    "\"\"\")"
   ]
  },
  {
   "cell_type": "code",
   "execution_count": 3,
   "metadata": {
    "editable": true
   },
   "outputs": [],
   "source": [
    "# INSERT RECORDS\n",
    "\n",
    "songplay_table_insert = (\"\"\"\n",
    "    INSERT INTO songplays (\n",
    "                            start_time, \\\n",
    "                            user_id, \\\n",
    "                            level, \\\n",
    "                            song_id, \\\n",
    "                            artist_id, \\\n",
    "                            session_id, \\\n",
    "                            location, \\\n",
    "                            user_agent)\n",
    "    VALUES (%s, %s, %s, %s, %s, %s, %s, %s)\n",
    "    ON CONFLICT DO NOTHING;\n",
    "\"\"\")\n",
    "\n",
    "user_table_insert = (\"\"\"\n",
    "    INSERT INTO users (  user_id, \\\n",
    "                        first_name, \\\n",
    "                        last_name, \\\n",
    "                        gender, \\\n",
    "                        level)\n",
    "    VALUES (%s, %s, %s, %s, %s)\n",
    "    ON CONFLICT (user_id) DO UPDATE \\\n",
    "        SET level = EXCLUDED.level || 'free';\n",
    "\"\"\")\n",
    "\n",
    "song_table_insert = (\"\"\"\n",
    "    INSERT INTO songs ( song_id, \\\n",
    "                        title, \\\n",
    "                        artist_id, \\\n",
    "                        year, \\\n",
    "                        duration)\n",
    "    VALUES (%s, %s, %s, %s, %s)\n",
    "    ON CONFLICT DO NOTHING;\n",
    "\"\"\")\n",
    "\n",
    "artist_table_insert = (\"\"\"\n",
    "    INSERT INTO artists (artist_id, \\\n",
    "                        name, \\\n",
    "                        location, \\\n",
    "                        latitude, \\\n",
    "                        longitude)\n",
    "    VALUES (%s, %s, %s, %s, %s)\n",
    "    ON CONFLICT DO NOTHING;\n",
    "\"\"\")\n",
    "\n",
    "\n",
    "time_table_insert = (\"\"\"\n",
    "    INSERT INTO time (  start_time, \\\n",
    "                        hour, \\\n",
    "                        day, \\\n",
    "                        week, \\\n",
    "                        month, \\\n",
    "                        year,\n",
    "                        weekday)\n",
    "    VALUES (%s, %s, %s, %s, %s, %s, %s)\n",
    "    ON CONFLICT DO NOTHING;\n",
    "\"\"\")"
   ]
  },
  {
   "cell_type": "code",
   "execution_count": 4,
   "metadata": {
    "editable": true
   },
   "outputs": [],
   "source": [
    "# FIND SONGS\n",
    "song_select = (\"\"\"\n",
    "    SELECT s.song_id, a.artist_id\n",
    "            FROM songs AS s\n",
    "            LEFT JOIN artists AS a\n",
    "                ON a.artist_id = s.artist_id\n",
    "            WHERE   s.title = (%s) AND \\\n",
    "                    a.name = (%s)  AND \\\n",
    "                    s.duration = (%s);\n",
    "\"\"\")"
   ]
  },
  {
   "cell_type": "code",
   "execution_count": 5,
   "metadata": {
    "editable": true
   },
   "outputs": [],
   "source": [
    "# QUERY LISTS\n",
    "create_table_queries = [songplay_table_create, user_table_create, song_table_create, artist_table_create, time_table_create]\n",
    "drop_table_queries = [songplay_table_drop, user_table_drop, song_table_drop, artist_table_drop, time_table_drop]"
   ]
  }
 ],
 "metadata": {
  "kernelspec": {
   "display_name": "Python 3",
   "language": "python",
   "name": "python3"
  },
  "language_info": {
   "codemirror_mode": {
    "name": "ipython",
    "version": 3
   },
   "file_extension": ".py",
   "mimetype": "text/x-python",
   "name": "python",
   "nbconvert_exporter": "python",
   "pygments_lexer": "ipython3",
   "version": "3.6.3"
  }
 },
 "nbformat": 4,
 "nbformat_minor": 4
}
